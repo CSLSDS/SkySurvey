{
 "cells": [
  {
   "cell_type": "markdown",
   "metadata": {
    "colab_type": "text",
    "id": "jZvIwcK9e5uX"
   },
   "source": []
  },
  {
   "cell_type": "markdown",
   "metadata": {
    "colab_type": "text",
    "id": "cFHNRvNhe5qN"
   },
   "source": [
    "# read in, examine"
   ]
  },
  {
   "cell_type": "code",
   "execution_count": 1,
   "metadata": {
    "colab": {},
    "colab_type": "code",
    "id": "UUUQvCel-Vzo"
   },
   "outputs": [],
   "source": [
    "import pandas as pd"
   ]
  },
  {
   "cell_type": "code",
   "execution_count": 2,
   "metadata": {
    "colab": {
     "base_uri": "https://localhost:8080/",
     "height": 384
    },
    "colab_type": "code",
    "id": "ZhDd7bAECaHo",
    "outputId": "7d1c3d15-0997-48cb-9cb7-522bd595c27d"
   },
   "outputs": [
    {
     "name": "stdout",
     "output_type": "stream",
     "text": [
      "--2020-03-04 10:09:04--  https://github.com/arewelearningyet/dashtemplate/blob/master/assets/Skyserver_12_30_2019_4_49_58_PM.csv.zip?raw=true\n",
      "Resolving github.com (github.com)... 140.82.113.4\n",
      "Connecting to github.com (github.com)|140.82.113.4|:443... connected.\n",
      "HTTP request sent, awaiting response... 302 Found\n",
      "Location: https://github.com/arewelearningyet/dashtemplate/raw/master/assets/Skyserver_12_30_2019_4_49_58_PM.csv.zip [following]\n",
      "--2020-03-04 10:09:05--  https://github.com/arewelearningyet/dashtemplate/raw/master/assets/Skyserver_12_30_2019_4_49_58_PM.csv.zip\n",
      "Reusing existing connection to github.com:443.\n",
      "HTTP request sent, awaiting response... 302 Found\n",
      "Location: https://raw.githubusercontent.com/arewelearningyet/dashtemplate/master/assets/Skyserver_12_30_2019_4_49_58_PM.csv.zip [following]\n",
      "--2020-03-04 10:09:06--  https://raw.githubusercontent.com/arewelearningyet/dashtemplate/master/assets/Skyserver_12_30_2019_4_49_58_PM.csv.zip\n",
      "Resolving raw.githubusercontent.com (raw.githubusercontent.com)... 199.232.36.133\n",
      "Connecting to raw.githubusercontent.com (raw.githubusercontent.com)|199.232.36.133|:443... connected.\n",
      "HTTP request sent, awaiting response... 200 OK\n",
      "Length: 6728394 (6.4M) [application/zip]\n",
      "Saving to: ‘Skyserver_12_30_2019_4_49_58_PM.csv.zip?raw=true’\n",
      "\n",
      "Skyserver_12_30_201 100%[===================>]   6.42M  2.39MB/s    in 2.7s    \n",
      "\n",
      "2020-03-04 10:09:09 (2.39 MB/s) - ‘Skyserver_12_30_2019_4_49_58_PM.csv.zip?raw=true’ saved [6728394/6728394]\n",
      "\n"
     ]
    }
   ],
   "source": []
  },
  {
   "cell_type": "code",
   "execution_count": 3,
   "metadata": {
    "colab": {
     "base_uri": "https://localhost:8080/",
     "height": 52
    },
    "colab_type": "code",
    "id": "a0w_rNMbHCai",
    "outputId": "96a16e0e-908b-4c58-fa49-037ec805e008"
   },
   "outputs": [
    {
     "name": "stdout",
     "output_type": "stream",
     "text": [
      "Archive:  Skyserver_12_30_2019_4_49_58_PM.csv.zip?raw=true\n",
      "  inflating: Skyserver_12_30_2019 4_49_58 PM.csv  \n"
     ]
    }
   ],
   "source": []
  },
  {
   "cell_type": "code",
   "execution_count": 4,
   "metadata": {
    "colab": {},
    "colab_type": "code",
    "id": "1DjrCcSDYld2"
   },
   "outputs": [],
   "source": [
    "df = pd.read_csv('Skyserver_12_30_2019 4_49_58 PM.csv')"
   ]
  },
  {
   "cell_type": "code",
   "execution_count": 5,
   "metadata": {
    "colab": {},
    "colab_type": "code",
    "id": "gkhZji44H2zv"
   },
   "outputs": [],
   "source": [
    "df_alpha = df.copy() # creating backup copy"
   ]
  },
  {
   "cell_type": "code",
   "execution_count": 6,
   "metadata": {
    "colab": {
     "base_uri": "https://localhost:8080/",
     "height": 614
    },
    "colab_type": "code",
    "id": "cVCfbeJJ_7Wb",
    "outputId": "9d560688-f4be-4ad0-d764-8905b8509c57"
   },
   "outputs": [
    {
     "data": {
      "text/html": [
       "<div>\n",
       "<style scoped>\n",
       "    .dataframe tbody tr th:only-of-type {\n",
       "        vertical-align: middle;\n",
       "    }\n",
       "\n",
       "    .dataframe tbody tr th {\n",
       "        vertical-align: top;\n",
       "    }\n",
       "\n",
       "    .dataframe thead th {\n",
       "        text-align: right;\n",
       "    }\n",
       "</style>\n",
       "<table border=\"1\" class=\"dataframe\">\n",
       "  <thead>\n",
       "    <tr style=\"text-align: right;\">\n",
       "      <th></th>\n",
       "      <th>0</th>\n",
       "      <th>1</th>\n",
       "      <th>2</th>\n",
       "      <th>3</th>\n",
       "      <th>4</th>\n",
       "    </tr>\n",
       "  </thead>\n",
       "  <tbody>\n",
       "    <tr>\n",
       "      <td>objid</td>\n",
       "      <td>1237666301628060000</td>\n",
       "      <td>1237673706652430000</td>\n",
       "      <td>1237671126974140000</td>\n",
       "      <td>1237665441518260000</td>\n",
       "      <td>1237665441522840000</td>\n",
       "    </tr>\n",
       "    <tr>\n",
       "      <td>ra</td>\n",
       "      <td>47.3725</td>\n",
       "      <td>116.303</td>\n",
       "      <td>172.757</td>\n",
       "      <td>201.224</td>\n",
       "      <td>212.817</td>\n",
       "    </tr>\n",
       "    <tr>\n",
       "      <td>dec</td>\n",
       "      <td>0.820621</td>\n",
       "      <td>42.456</td>\n",
       "      <td>-8.7857</td>\n",
       "      <td>28.7713</td>\n",
       "      <td>26.6252</td>\n",
       "    </tr>\n",
       "    <tr>\n",
       "      <td>u</td>\n",
       "      <td>18.6925</td>\n",
       "      <td>18.4763</td>\n",
       "      <td>16.4771</td>\n",
       "      <td>18.6356</td>\n",
       "      <td>18.8833</td>\n",
       "    </tr>\n",
       "    <tr>\n",
       "      <td>g</td>\n",
       "      <td>17.1387</td>\n",
       "      <td>17.3055</td>\n",
       "      <td>15.3107</td>\n",
       "      <td>16.8835</td>\n",
       "      <td>17.8795</td>\n",
       "    </tr>\n",
       "    <tr>\n",
       "      <td>r</td>\n",
       "      <td>16.5556</td>\n",
       "      <td>17.2412</td>\n",
       "      <td>15.5597</td>\n",
       "      <td>16.0983</td>\n",
       "      <td>17.4704</td>\n",
       "    </tr>\n",
       "    <tr>\n",
       "      <td>i</td>\n",
       "      <td>16.3466</td>\n",
       "      <td>17.3278</td>\n",
       "      <td>15.7221</td>\n",
       "      <td>15.7099</td>\n",
       "      <td>17.1744</td>\n",
       "    </tr>\n",
       "    <tr>\n",
       "      <td>z</td>\n",
       "      <td>16.1764</td>\n",
       "      <td>17.3711</td>\n",
       "      <td>15.8247</td>\n",
       "      <td>15.4349</td>\n",
       "      <td>17.0524</td>\n",
       "    </tr>\n",
       "    <tr>\n",
       "      <td>run</td>\n",
       "      <td>4849</td>\n",
       "      <td>6573</td>\n",
       "      <td>5973</td>\n",
       "      <td>4649</td>\n",
       "      <td>4649</td>\n",
       "    </tr>\n",
       "    <tr>\n",
       "      <td>rerun</td>\n",
       "      <td>301</td>\n",
       "      <td>301</td>\n",
       "      <td>301</td>\n",
       "      <td>301</td>\n",
       "      <td>301</td>\n",
       "    </tr>\n",
       "    <tr>\n",
       "      <td>camcol</td>\n",
       "      <td>5</td>\n",
       "      <td>6</td>\n",
       "      <td>1</td>\n",
       "      <td>3</td>\n",
       "      <td>3</td>\n",
       "    </tr>\n",
       "    <tr>\n",
       "      <td>field</td>\n",
       "      <td>771</td>\n",
       "      <td>220</td>\n",
       "      <td>13</td>\n",
       "      <td>121</td>\n",
       "      <td>191</td>\n",
       "    </tr>\n",
       "    <tr>\n",
       "      <td>specobjid</td>\n",
       "      <td>8168632633242440000</td>\n",
       "      <td>9333948945297330000</td>\n",
       "      <td>3221211255238850000</td>\n",
       "      <td>2254061292459420000</td>\n",
       "      <td>2390305906828010000</td>\n",
       "    </tr>\n",
       "    <tr>\n",
       "      <td>class</td>\n",
       "      <td>STAR</td>\n",
       "      <td>STAR</td>\n",
       "      <td>STAR</td>\n",
       "      <td>GALAXY</td>\n",
       "      <td>GALAXY</td>\n",
       "    </tr>\n",
       "    <tr>\n",
       "      <td>redshift</td>\n",
       "      <td>0.000114654</td>\n",
       "      <td>-9.27589e-05</td>\n",
       "      <td>0.000164581</td>\n",
       "      <td>0.0581552</td>\n",
       "      <td>0.0722105</td>\n",
       "    </tr>\n",
       "    <tr>\n",
       "      <td>plate</td>\n",
       "      <td>7255</td>\n",
       "      <td>8290</td>\n",
       "      <td>2861</td>\n",
       "      <td>2002</td>\n",
       "      <td>2123</td>\n",
       "    </tr>\n",
       "    <tr>\n",
       "      <td>mjd</td>\n",
       "      <td>56597</td>\n",
       "      <td>57364</td>\n",
       "      <td>54583</td>\n",
       "      <td>53471</td>\n",
       "      <td>53793</td>\n",
       "    </tr>\n",
       "    <tr>\n",
       "      <td>fiberid</td>\n",
       "      <td>832</td>\n",
       "      <td>868</td>\n",
       "      <td>42</td>\n",
       "      <td>35</td>\n",
       "      <td>74</td>\n",
       "    </tr>\n",
       "  </tbody>\n",
       "</table>\n",
       "</div>"
      ],
      "text/plain": [
       "                             0                    1                    2  \\\n",
       "objid      1237666301628060000  1237673706652430000  1237671126974140000   \n",
       "ra                     47.3725              116.303              172.757   \n",
       "dec                   0.820621               42.456              -8.7857   \n",
       "u                      18.6925              18.4763              16.4771   \n",
       "g                      17.1387              17.3055              15.3107   \n",
       "r                      16.5556              17.2412              15.5597   \n",
       "i                      16.3466              17.3278              15.7221   \n",
       "z                      16.1764              17.3711              15.8247   \n",
       "run                       4849                 6573                 5973   \n",
       "rerun                      301                  301                  301   \n",
       "camcol                       5                    6                    1   \n",
       "field                      771                  220                   13   \n",
       "specobjid  8168632633242440000  9333948945297330000  3221211255238850000   \n",
       "class                     STAR                 STAR                 STAR   \n",
       "redshift           0.000114654         -9.27589e-05          0.000164581   \n",
       "plate                     7255                 8290                 2861   \n",
       "mjd                      56597                57364                54583   \n",
       "fiberid                    832                  868                   42   \n",
       "\n",
       "                             3                    4  \n",
       "objid      1237665441518260000  1237665441522840000  \n",
       "ra                     201.224              212.817  \n",
       "dec                    28.7713              26.6252  \n",
       "u                      18.6356              18.8833  \n",
       "g                      16.8835              17.8795  \n",
       "r                      16.0983              17.4704  \n",
       "i                      15.7099              17.1744  \n",
       "z                      15.4349              17.0524  \n",
       "run                       4649                 4649  \n",
       "rerun                      301                  301  \n",
       "camcol                       3                    3  \n",
       "field                      121                  191  \n",
       "specobjid  2254061292459420000  2390305906828010000  \n",
       "class                   GALAXY               GALAXY  \n",
       "redshift             0.0581552            0.0722105  \n",
       "plate                     2002                 2123  \n",
       "mjd                      53471                53793  \n",
       "fiberid                     35                   74  "
      ]
     },
     "execution_count": 6,
     "metadata": {},
     "output_type": "execute_result"
    }
   ],
   "source": [
    "df.head().T"
   ]
  },
  {
   "cell_type": "code",
   "execution_count": 7,
   "metadata": {
    "colab": {},
    "colab_type": "code",
    "id": "Ns9T2rL9iIzk"
   },
   "outputs": [],
   "source": [
    "pd.options.display.float_format = '{:.2f}'.format"
   ]
  },
  {
   "cell_type": "code",
   "execution_count": 8,
   "metadata": {
    "colab": {
     "base_uri": "https://localhost:8080/",
     "height": 603
    },
    "colab_type": "code",
    "id": "_lyWq3O1_8P7",
    "outputId": "b8e7eaf4-f311-45f3-cec7-5137baada1f3"
   },
   "outputs": [
    {
     "data": {
      "text/html": [
       "<div>\n",
       "<style scoped>\n",
       "    .dataframe tbody tr th:only-of-type {\n",
       "        vertical-align: middle;\n",
       "    }\n",
       "\n",
       "    .dataframe tbody tr th {\n",
       "        vertical-align: top;\n",
       "    }\n",
       "\n",
       "    .dataframe thead th {\n",
       "        text-align: right;\n",
       "    }\n",
       "</style>\n",
       "<table border=\"1\" class=\"dataframe\">\n",
       "  <thead>\n",
       "    <tr style=\"text-align: right;\">\n",
       "      <th></th>\n",
       "      <th>count</th>\n",
       "      <th>mean</th>\n",
       "      <th>std</th>\n",
       "      <th>min</th>\n",
       "      <th>25%</th>\n",
       "      <th>50%</th>\n",
       "      <th>75%</th>\n",
       "      <th>max</th>\n",
       "    </tr>\n",
       "  </thead>\n",
       "  <tbody>\n",
       "    <tr>\n",
       "      <td>objid</td>\n",
       "      <td>100000.00</td>\n",
       "      <td>1237662562871589632.00</td>\n",
       "      <td>7264930969192.37</td>\n",
       "      <td>1237645941824359936.00</td>\n",
       "      <td>1237657612877430016.00</td>\n",
       "      <td>1237662226223075072.00</td>\n",
       "      <td>1237667210516610048.00</td>\n",
       "      <td>1237680530819379968.00</td>\n",
       "    </tr>\n",
       "    <tr>\n",
       "      <td>ra</td>\n",
       "      <td>100000.00</td>\n",
       "      <td>177.51</td>\n",
       "      <td>78.04</td>\n",
       "      <td>0.01</td>\n",
       "      <td>136.36</td>\n",
       "      <td>180.41</td>\n",
       "      <td>224.37</td>\n",
       "      <td>360.00</td>\n",
       "    </tr>\n",
       "    <tr>\n",
       "      <td>dec</td>\n",
       "      <td>100000.00</td>\n",
       "      <td>25.05</td>\n",
       "      <td>20.57</td>\n",
       "      <td>-19.50</td>\n",
       "      <td>6.77</td>\n",
       "      <td>23.92</td>\n",
       "      <td>40.34</td>\n",
       "      <td>84.49</td>\n",
       "    </tr>\n",
       "    <tr>\n",
       "      <td>u</td>\n",
       "      <td>100000.00</td>\n",
       "      <td>18.64</td>\n",
       "      <td>0.83</td>\n",
       "      <td>10.61</td>\n",
       "      <td>18.21</td>\n",
       "      <td>18.87</td>\n",
       "      <td>19.27</td>\n",
       "      <td>19.60</td>\n",
       "    </tr>\n",
       "    <tr>\n",
       "      <td>g</td>\n",
       "      <td>100000.00</td>\n",
       "      <td>17.41</td>\n",
       "      <td>0.99</td>\n",
       "      <td>9.67</td>\n",
       "      <td>16.85</td>\n",
       "      <td>17.52</td>\n",
       "      <td>18.06</td>\n",
       "      <td>20.00</td>\n",
       "    </tr>\n",
       "    <tr>\n",
       "      <td>r</td>\n",
       "      <td>100000.00</td>\n",
       "      <td>16.88</td>\n",
       "      <td>1.13</td>\n",
       "      <td>9.01</td>\n",
       "      <td>16.20</td>\n",
       "      <td>16.89</td>\n",
       "      <td>17.59</td>\n",
       "      <td>31.99</td>\n",
       "    </tr>\n",
       "    <tr>\n",
       "      <td>i</td>\n",
       "      <td>100000.00</td>\n",
       "      <td>16.63</td>\n",
       "      <td>1.21</td>\n",
       "      <td>8.85</td>\n",
       "      <td>15.87</td>\n",
       "      <td>16.60</td>\n",
       "      <td>17.34</td>\n",
       "      <td>32.14</td>\n",
       "    </tr>\n",
       "    <tr>\n",
       "      <td>z</td>\n",
       "      <td>100000.00</td>\n",
       "      <td>16.47</td>\n",
       "      <td>1.28</td>\n",
       "      <td>8.95</td>\n",
       "      <td>15.62</td>\n",
       "      <td>16.43</td>\n",
       "      <td>17.23</td>\n",
       "      <td>29.38</td>\n",
       "    </tr>\n",
       "    <tr>\n",
       "      <td>run</td>\n",
       "      <td>100000.00</td>\n",
       "      <td>3978.73</td>\n",
       "      <td>1691.50</td>\n",
       "      <td>109.00</td>\n",
       "      <td>2826.00</td>\n",
       "      <td>3900.00</td>\n",
       "      <td>5061.00</td>\n",
       "      <td>8162.00</td>\n",
       "    </tr>\n",
       "    <tr>\n",
       "      <td>rerun</td>\n",
       "      <td>100000.00</td>\n",
       "      <td>301.00</td>\n",
       "      <td>0.00</td>\n",
       "      <td>301.00</td>\n",
       "      <td>301.00</td>\n",
       "      <td>301.00</td>\n",
       "      <td>301.00</td>\n",
       "      <td>301.00</td>\n",
       "    </tr>\n",
       "    <tr>\n",
       "      <td>camcol</td>\n",
       "      <td>100000.00</td>\n",
       "      <td>3.27</td>\n",
       "      <td>1.62</td>\n",
       "      <td>1.00</td>\n",
       "      <td>2.00</td>\n",
       "      <td>3.00</td>\n",
       "      <td>5.00</td>\n",
       "      <td>6.00</td>\n",
       "    </tr>\n",
       "    <tr>\n",
       "      <td>field</td>\n",
       "      <td>100000.00</td>\n",
       "      <td>187.24</td>\n",
       "      <td>141.04</td>\n",
       "      <td>11.00</td>\n",
       "      <td>85.00</td>\n",
       "      <td>153.00</td>\n",
       "      <td>249.00</td>\n",
       "      <td>982.00</td>\n",
       "    </tr>\n",
       "    <tr>\n",
       "      <td>specobjid</td>\n",
       "      <td>100000.00</td>\n",
       "      <td>2913905239695828480.00</td>\n",
       "      <td>2488871561923097088.00</td>\n",
       "      <td>299489677444934016.00</td>\n",
       "      <td>1335425704522702592.00</td>\n",
       "      <td>2354329743123310080.00</td>\n",
       "      <td>3276384474631267328.00</td>\n",
       "      <td>13176452382555699200.00</td>\n",
       "    </tr>\n",
       "    <tr>\n",
       "      <td>redshift</td>\n",
       "      <td>100000.00</td>\n",
       "      <td>0.17</td>\n",
       "      <td>0.44</td>\n",
       "      <td>-0.00</td>\n",
       "      <td>0.00</td>\n",
       "      <td>0.05</td>\n",
       "      <td>0.10</td>\n",
       "      <td>7.01</td>\n",
       "    </tr>\n",
       "    <tr>\n",
       "      <td>plate</td>\n",
       "      <td>100000.00</td>\n",
       "      <td>2587.98</td>\n",
       "      <td>2210.55</td>\n",
       "      <td>266.00</td>\n",
       "      <td>1186.00</td>\n",
       "      <td>2091.00</td>\n",
       "      <td>2910.00</td>\n",
       "      <td>11703.00</td>\n",
       "    </tr>\n",
       "    <tr>\n",
       "      <td>mjd</td>\n",
       "      <td>100000.00</td>\n",
       "      <td>53913.91</td>\n",
       "      <td>1547.24</td>\n",
       "      <td>51608.00</td>\n",
       "      <td>52733.00</td>\n",
       "      <td>53726.00</td>\n",
       "      <td>54585.00</td>\n",
       "      <td>58543.00</td>\n",
       "    </tr>\n",
       "    <tr>\n",
       "      <td>fiberid</td>\n",
       "      <td>100000.00</td>\n",
       "      <td>341.70</td>\n",
       "      <td>217.07</td>\n",
       "      <td>1.00</td>\n",
       "      <td>160.00</td>\n",
       "      <td>328.00</td>\n",
       "      <td>502.00</td>\n",
       "      <td>1000.00</td>\n",
       "    </tr>\n",
       "  </tbody>\n",
       "</table>\n",
       "</div>"
      ],
      "text/plain": [
       "              count                   mean                    std  \\\n",
       "objid     100000.00 1237662562871589632.00       7264930969192.37   \n",
       "ra        100000.00                 177.51                  78.04   \n",
       "dec       100000.00                  25.05                  20.57   \n",
       "u         100000.00                  18.64                   0.83   \n",
       "g         100000.00                  17.41                   0.99   \n",
       "r         100000.00                  16.88                   1.13   \n",
       "i         100000.00                  16.63                   1.21   \n",
       "z         100000.00                  16.47                   1.28   \n",
       "run       100000.00                3978.73                1691.50   \n",
       "rerun     100000.00                 301.00                   0.00   \n",
       "camcol    100000.00                   3.27                   1.62   \n",
       "field     100000.00                 187.24                 141.04   \n",
       "specobjid 100000.00 2913905239695828480.00 2488871561923097088.00   \n",
       "redshift  100000.00                   0.17                   0.44   \n",
       "plate     100000.00                2587.98                2210.55   \n",
       "mjd       100000.00               53913.91                1547.24   \n",
       "fiberid   100000.00                 341.70                 217.07   \n",
       "\n",
       "                             min                    25%  \\\n",
       "objid     1237645941824359936.00 1237657612877430016.00   \n",
       "ra                          0.01                 136.36   \n",
       "dec                       -19.50                   6.77   \n",
       "u                          10.61                  18.21   \n",
       "g                           9.67                  16.85   \n",
       "r                           9.01                  16.20   \n",
       "i                           8.85                  15.87   \n",
       "z                           8.95                  15.62   \n",
       "run                       109.00                2826.00   \n",
       "rerun                     301.00                 301.00   \n",
       "camcol                      1.00                   2.00   \n",
       "field                      11.00                  85.00   \n",
       "specobjid  299489677444934016.00 1335425704522702592.00   \n",
       "redshift                   -0.00                   0.00   \n",
       "plate                     266.00                1186.00   \n",
       "mjd                     51608.00               52733.00   \n",
       "fiberid                     1.00                 160.00   \n",
       "\n",
       "                             50%                    75%  \\\n",
       "objid     1237662226223075072.00 1237667210516610048.00   \n",
       "ra                        180.41                 224.37   \n",
       "dec                        23.92                  40.34   \n",
       "u                          18.87                  19.27   \n",
       "g                          17.52                  18.06   \n",
       "r                          16.89                  17.59   \n",
       "i                          16.60                  17.34   \n",
       "z                          16.43                  17.23   \n",
       "run                      3900.00                5061.00   \n",
       "rerun                     301.00                 301.00   \n",
       "camcol                      3.00                   5.00   \n",
       "field                     153.00                 249.00   \n",
       "specobjid 2354329743123310080.00 3276384474631267328.00   \n",
       "redshift                    0.05                   0.10   \n",
       "plate                    2091.00                2910.00   \n",
       "mjd                     53726.00               54585.00   \n",
       "fiberid                   328.00                 502.00   \n",
       "\n",
       "                              max  \n",
       "objid      1237680530819379968.00  \n",
       "ra                         360.00  \n",
       "dec                         84.49  \n",
       "u                           19.60  \n",
       "g                           20.00  \n",
       "r                           31.99  \n",
       "i                           32.14  \n",
       "z                           29.38  \n",
       "run                       8162.00  \n",
       "rerun                      301.00  \n",
       "camcol                       6.00  \n",
       "field                      982.00  \n",
       "specobjid 13176452382555699200.00  \n",
       "redshift                     7.01  \n",
       "plate                    11703.00  \n",
       "mjd                      58543.00  \n",
       "fiberid                   1000.00  "
      ]
     },
     "execution_count": 8,
     "metadata": {},
     "output_type": "execute_result"
    }
   ],
   "source": [
    "df.describe().T"
   ]
  },
  {
   "cell_type": "code",
   "execution_count": 0,
   "metadata": {
    "colab": {
     "base_uri": "https://localhost:8080/",
     "height": 34
    },
    "colab_type": "code",
    "id": "2tp3Jvq1kM5X",
    "outputId": "8b6ec1e3-3fdc-454a-bedf-4600fad80de3"
   },
   "outputs": [
    {
     "data": {
      "text/plain": [
       "67951"
      ]
     },
     "execution_count": 84,
     "metadata": {
      "tags": []
     },
     "output_type": "execute_result"
    }
   ],
   "source": [
    "df.objid.nunique()"
   ]
  },
  {
   "cell_type": "code",
   "execution_count": 0,
   "metadata": {
    "colab": {
     "base_uri": "https://localhost:8080/",
     "height": 34
    },
    "colab_type": "code",
    "id": "045_Y0WokPP1",
    "outputId": "5b9bc142-2d6e-4eda-ae52-081ff94c2cee"
   },
   "outputs": [
    {
     "data": {
      "text/plain": [
       "100000"
      ]
     },
     "execution_count": 85,
     "metadata": {
      "tags": []
     },
     "output_type": "execute_result"
    }
   ],
   "source": [
    "df.specobjid.nunique()"
   ]
  },
  {
   "cell_type": "code",
   "execution_count": 0,
   "metadata": {
    "colab": {},
    "colab_type": "code",
    "id": "jsJbBY2nkkxU"
   },
   "outputs": [],
   "source": [
    "df = df.drop(columns='specobjid')"
   ]
  },
  {
   "cell_type": "code",
   "execution_count": 0,
   "metadata": {
    "colab": {
     "base_uri": "https://localhost:8080/",
     "height": 175
    },
    "colab_type": "code",
    "id": "LiSAphjV_-TF",
    "outputId": "c7a34a8d-b2f5-4d48-8b37-c1999f5852f2"
   },
   "outputs": [
    {
     "data": {
      "text/html": [
       "<div>\n",
       "<style scoped>\n",
       "    .dataframe tbody tr th:only-of-type {\n",
       "        vertical-align: middle;\n",
       "    }\n",
       "\n",
       "    .dataframe tbody tr th {\n",
       "        vertical-align: top;\n",
       "    }\n",
       "\n",
       "    .dataframe thead th {\n",
       "        text-align: right;\n",
       "    }\n",
       "</style>\n",
       "<table border=\"1\" class=\"dataframe\">\n",
       "  <thead>\n",
       "    <tr style=\"text-align: right;\">\n",
       "      <th></th>\n",
       "      <th>class</th>\n",
       "    </tr>\n",
       "  </thead>\n",
       "  <tbody>\n",
       "    <tr>\n",
       "      <th>count</th>\n",
       "      <td>100000</td>\n",
       "    </tr>\n",
       "    <tr>\n",
       "      <th>unique</th>\n",
       "      <td>3</td>\n",
       "    </tr>\n",
       "    <tr>\n",
       "      <th>top</th>\n",
       "      <td>GALAXY</td>\n",
       "    </tr>\n",
       "    <tr>\n",
       "      <th>freq</th>\n",
       "      <td>51323</td>\n",
       "    </tr>\n",
       "  </tbody>\n",
       "</table>\n",
       "</div>"
      ],
      "text/plain": [
       "         class\n",
       "count   100000\n",
       "unique       3\n",
       "top     GALAXY\n",
       "freq     51323"
      ]
     },
     "execution_count": 87,
     "metadata": {
      "tags": []
     },
     "output_type": "execute_result"
    }
   ],
   "source": [
    "df.describe(exclude='number')"
   ]
  },
  {
   "cell_type": "code",
   "execution_count": 0,
   "metadata": {
    "colab": {
     "base_uri": "https://localhost:8080/",
     "height": 34
    },
    "colab_type": "code",
    "id": "y6DVmKp-AAb0",
    "outputId": "e1bfc718-817a-46d9-93f2-c384e27c058a"
   },
   "outputs": [
    {
     "data": {
      "text/plain": [
       "(100000, 17)"
      ]
     },
     "execution_count": 88,
     "metadata": {
      "tags": []
     },
     "output_type": "execute_result"
    }
   ],
   "source": [
    "df.shape"
   ]
  },
  {
   "cell_type": "markdown",
   "metadata": {
    "colab_type": "text",
    "id": "jsvGvyJMfKf9"
   },
   "source": [
    "# create binary classes from multiclass feature 'class'"
   ]
  },
  {
   "cell_type": "code",
   "execution_count": 0,
   "metadata": {
    "colab": {
     "base_uri": "https://localhost:8080/",
     "height": 34
    },
    "colab_type": "code",
    "id": "1dNuwkZWnm9V",
    "outputId": "aabf3176-6ef4-4abf-a525-610a20b36525"
   },
   "outputs": [
    {
     "data": {
      "text/plain": [
       "array(['STAR', 'GALAXY', 'QSO'], dtype=object)"
      ]
     },
     "execution_count": 117,
     "metadata": {
      "tags": []
     },
     "output_type": "execute_result"
    }
   ],
   "source": [
    "df_alpha['class'].unique()"
   ]
  },
  {
   "cell_type": "code",
   "execution_count": 0,
   "metadata": {
    "colab": {},
    "colab_type": "code",
    "id": "lsaBAh0UnvtG"
   },
   "outputs": [],
   "source": [
    "class_distribution = df_alpha['class'].value_counts(normalize=True).reset_index()"
   ]
  },
  {
   "cell_type": "code",
   "execution_count": 0,
   "metadata": {
    "colab": {
     "base_uri": "https://localhost:8080/",
     "height": 34
    },
    "colab_type": "code",
    "id": "cwE_7kSEoiS0",
    "outputId": "9c229982-0f53-42fa-985e-523d2cd020c6"
   },
   "outputs": [
    {
     "data": {
      "text/plain": [
       "'STAR'"
      ]
     },
     "execution_count": 158,
     "metadata": {
      "tags": []
     },
     "output_type": "execute_result"
    }
   ],
   "source": [
    "class_distribution.iloc[1][0]"
   ]
  },
  {
   "cell_type": "code",
   "execution_count": 0,
   "metadata": {
    "colab": {
     "base_uri": "https://localhost:8080/",
     "height": 34
    },
    "colab_type": "code",
    "id": "jdVjn0eSpwHd",
    "outputId": "5237e290-b8b7-4a9f-ae74-6d59101db97c"
   },
   "outputs": [
    {
     "data": {
      "text/plain": [
       "0.38096"
      ]
     },
     "execution_count": 154,
     "metadata": {
      "tags": []
     },
     "output_type": "execute_result"
    }
   ],
   "source": [
    "class_distribution.iloc[1][1]"
   ]
  },
  {
   "cell_type": "code",
   "execution_count": 0,
   "metadata": {
    "colab": {
     "base_uri": "https://localhost:8080/",
     "height": 69
    },
    "colab_type": "code",
    "id": "M1kqShfTpGXf",
    "outputId": "013c5130-0298-4693-f700-383c2c926a3e"
   },
   "outputs": [
    {
     "data": {
      "text/plain": [
       "index    GALAXY\n",
       "class      0.51\n",
       "Name: 0, dtype: object"
      ]
     },
     "execution_count": 155,
     "metadata": {
      "tags": []
     },
     "output_type": "execute_result"
    }
   ],
   "source": [
    "class_distribution.iloc[0]"
   ]
  },
  {
   "cell_type": "markdown",
   "metadata": {
    "colab_type": "text",
    "id": "CepcbvcUsaup"
   },
   "source": [
    "# TODO: put naive baseline in here - insights about multiclass classification, 'difficulty'"
   ]
  },
  {
   "cell_type": "code",
   "execution_count": 0,
   "metadata": {
    "colab": {
     "base_uri": "https://localhost:8080/",
     "height": 542
    },
    "colab_type": "code",
    "id": "nGHmEEP_mbUW",
    "outputId": "80a2f9a3-7750-49cd-a764-d533e815f24e"
   },
   "outputs": [
    {
     "data": {
      "text/html": [
       "<html>\n",
       "<head><meta charset=\"utf-8\" /></head>\n",
       "<body>\n",
       "    <div>\n",
       "            <script src=\"https://cdnjs.cloudflare.com/ajax/libs/mathjax/2.7.5/MathJax.js?config=TeX-AMS-MML_SVG\"></script><script type=\"text/javascript\">if (window.MathJax) {MathJax.Hub.Config({SVG: {font: \"STIX-Web\"}});}</script>\n",
       "                <script type=\"text/javascript\">window.PlotlyConfig = {MathJaxConfig: 'local'};</script>\n",
       "        <script src=\"https://cdn.plot.ly/plotly-latest.min.js\"></script>    \n",
       "            <div id=\"a738c963-6f84-4f48-a461-479fc43a5bca\" class=\"plotly-graph-div\" style=\"height:525px; width:100%;\"></div>\n",
       "            <script type=\"text/javascript\">\n",
       "                \n",
       "                    window.PLOTLYENV=window.PLOTLYENV || {};\n",
       "                    \n",
       "                if (document.getElementById(\"a738c963-6f84-4f48-a461-479fc43a5bca\")) {\n",
       "                    Plotly.newPlot(\n",
       "                        'a738c963-6f84-4f48-a461-479fc43a5bca',\n",
       "                        [{\"hoverinfo\": \"label+percent\", \"labels\": [\"GALAXY\", \"STAR\", \"QSO\"], \"marker\": {\"colors\": [\"gold\", \"mediumturquoise\", \"darkorange\", \"lightgreen\"], \"line\": {\"color\": \"#000000\", \"width\": 2}}, \"textfont\": {\"size\": 20}, \"textinfo\": \"text+label+percent\", \"type\": \"pie\", \"values\": [0.51323, 0.38096, 0.10581]}],\n",
       "                        {\"template\": {\"data\": {\"bar\": [{\"error_x\": {\"color\": \"#2a3f5f\"}, \"error_y\": {\"color\": \"#2a3f5f\"}, \"marker\": {\"line\": {\"color\": \"#E5ECF6\", \"width\": 0.5}}, \"type\": \"bar\"}], \"barpolar\": [{\"marker\": {\"line\": {\"color\": \"#E5ECF6\", \"width\": 0.5}}, \"type\": \"barpolar\"}], \"carpet\": [{\"aaxis\": {\"endlinecolor\": \"#2a3f5f\", \"gridcolor\": \"white\", \"linecolor\": \"white\", \"minorgridcolor\": \"white\", \"startlinecolor\": \"#2a3f5f\"}, \"baxis\": {\"endlinecolor\": \"#2a3f5f\", \"gridcolor\": \"white\", \"linecolor\": \"white\", \"minorgridcolor\": \"white\", \"startlinecolor\": \"#2a3f5f\"}, \"type\": \"carpet\"}], \"choropleth\": [{\"colorbar\": {\"outlinewidth\": 0, \"ticks\": \"\"}, \"type\": \"choropleth\"}], \"contour\": [{\"colorbar\": {\"outlinewidth\": 0, \"ticks\": \"\"}, \"colorscale\": [[0.0, \"#0d0887\"], [0.1111111111111111, \"#46039f\"], [0.2222222222222222, \"#7201a8\"], [0.3333333333333333, \"#9c179e\"], [0.4444444444444444, \"#bd3786\"], [0.5555555555555556, \"#d8576b\"], [0.6666666666666666, \"#ed7953\"], [0.7777777777777778, \"#fb9f3a\"], [0.8888888888888888, \"#fdca26\"], [1.0, \"#f0f921\"]], \"type\": \"contour\"}], \"contourcarpet\": [{\"colorbar\": {\"outlinewidth\": 0, \"ticks\": \"\"}, \"type\": \"contourcarpet\"}], \"heatmap\": [{\"colorbar\": {\"outlinewidth\": 0, \"ticks\": \"\"}, \"colorscale\": [[0.0, \"#0d0887\"], [0.1111111111111111, \"#46039f\"], [0.2222222222222222, \"#7201a8\"], [0.3333333333333333, \"#9c179e\"], [0.4444444444444444, \"#bd3786\"], [0.5555555555555556, \"#d8576b\"], [0.6666666666666666, \"#ed7953\"], [0.7777777777777778, \"#fb9f3a\"], [0.8888888888888888, \"#fdca26\"], [1.0, \"#f0f921\"]], \"type\": \"heatmap\"}], \"heatmapgl\": [{\"colorbar\": {\"outlinewidth\": 0, \"ticks\": \"\"}, \"colorscale\": [[0.0, \"#0d0887\"], [0.1111111111111111, \"#46039f\"], [0.2222222222222222, \"#7201a8\"], [0.3333333333333333, \"#9c179e\"], [0.4444444444444444, \"#bd3786\"], [0.5555555555555556, \"#d8576b\"], [0.6666666666666666, \"#ed7953\"], [0.7777777777777778, \"#fb9f3a\"], [0.8888888888888888, \"#fdca26\"], [1.0, \"#f0f921\"]], \"type\": \"heatmapgl\"}], \"histogram\": [{\"marker\": {\"colorbar\": {\"outlinewidth\": 0, \"ticks\": \"\"}}, \"type\": \"histogram\"}], \"histogram2d\": [{\"colorbar\": {\"outlinewidth\": 0, \"ticks\": \"\"}, \"colorscale\": [[0.0, \"#0d0887\"], [0.1111111111111111, \"#46039f\"], [0.2222222222222222, \"#7201a8\"], [0.3333333333333333, \"#9c179e\"], [0.4444444444444444, \"#bd3786\"], [0.5555555555555556, \"#d8576b\"], [0.6666666666666666, \"#ed7953\"], [0.7777777777777778, \"#fb9f3a\"], [0.8888888888888888, \"#fdca26\"], [1.0, \"#f0f921\"]], \"type\": \"histogram2d\"}], \"histogram2dcontour\": [{\"colorbar\": {\"outlinewidth\": 0, \"ticks\": \"\"}, \"colorscale\": [[0.0, \"#0d0887\"], [0.1111111111111111, \"#46039f\"], [0.2222222222222222, \"#7201a8\"], [0.3333333333333333, \"#9c179e\"], [0.4444444444444444, \"#bd3786\"], [0.5555555555555556, \"#d8576b\"], [0.6666666666666666, \"#ed7953\"], [0.7777777777777778, \"#fb9f3a\"], [0.8888888888888888, \"#fdca26\"], [1.0, \"#f0f921\"]], \"type\": \"histogram2dcontour\"}], \"mesh3d\": [{\"colorbar\": {\"outlinewidth\": 0, \"ticks\": \"\"}, \"type\": \"mesh3d\"}], \"parcoords\": [{\"line\": {\"colorbar\": {\"outlinewidth\": 0, \"ticks\": \"\"}}, \"type\": \"parcoords\"}], \"pie\": [{\"automargin\": true, \"type\": \"pie\"}], \"scatter\": [{\"marker\": {\"colorbar\": {\"outlinewidth\": 0, \"ticks\": \"\"}}, \"type\": \"scatter\"}], \"scatter3d\": [{\"line\": {\"colorbar\": {\"outlinewidth\": 0, \"ticks\": \"\"}}, \"marker\": {\"colorbar\": {\"outlinewidth\": 0, \"ticks\": \"\"}}, \"type\": \"scatter3d\"}], \"scattercarpet\": [{\"marker\": {\"colorbar\": {\"outlinewidth\": 0, \"ticks\": \"\"}}, \"type\": \"scattercarpet\"}], \"scattergeo\": [{\"marker\": {\"colorbar\": {\"outlinewidth\": 0, \"ticks\": \"\"}}, \"type\": \"scattergeo\"}], \"scattergl\": [{\"marker\": {\"colorbar\": {\"outlinewidth\": 0, \"ticks\": \"\"}}, \"type\": \"scattergl\"}], \"scattermapbox\": [{\"marker\": {\"colorbar\": {\"outlinewidth\": 0, \"ticks\": \"\"}}, \"type\": \"scattermapbox\"}], \"scatterpolar\": [{\"marker\": {\"colorbar\": {\"outlinewidth\": 0, \"ticks\": \"\"}}, \"type\": \"scatterpolar\"}], \"scatterpolargl\": [{\"marker\": {\"colorbar\": {\"outlinewidth\": 0, \"ticks\": \"\"}}, \"type\": \"scatterpolargl\"}], \"scatterternary\": [{\"marker\": {\"colorbar\": {\"outlinewidth\": 0, \"ticks\": \"\"}}, \"type\": \"scatterternary\"}], \"surface\": [{\"colorbar\": {\"outlinewidth\": 0, \"ticks\": \"\"}, \"colorscale\": [[0.0, \"#0d0887\"], [0.1111111111111111, \"#46039f\"], [0.2222222222222222, \"#7201a8\"], [0.3333333333333333, \"#9c179e\"], [0.4444444444444444, \"#bd3786\"], [0.5555555555555556, \"#d8576b\"], [0.6666666666666666, \"#ed7953\"], [0.7777777777777778, \"#fb9f3a\"], [0.8888888888888888, \"#fdca26\"], [1.0, \"#f0f921\"]], \"type\": \"surface\"}], \"table\": [{\"cells\": {\"fill\": {\"color\": \"#EBF0F8\"}, \"line\": {\"color\": \"white\"}}, \"header\": {\"fill\": {\"color\": \"#C8D4E3\"}, \"line\": {\"color\": \"white\"}}, \"type\": \"table\"}]}, \"layout\": {\"annotationdefaults\": {\"arrowcolor\": \"#2a3f5f\", \"arrowhead\": 0, \"arrowwidth\": 1}, \"coloraxis\": {\"colorbar\": {\"outlinewidth\": 0, \"ticks\": \"\"}}, \"colorscale\": {\"diverging\": [[0, \"#8e0152\"], [0.1, \"#c51b7d\"], [0.2, \"#de77ae\"], [0.3, \"#f1b6da\"], [0.4, \"#fde0ef\"], [0.5, \"#f7f7f7\"], [0.6, \"#e6f5d0\"], [0.7, \"#b8e186\"], [0.8, \"#7fbc41\"], [0.9, \"#4d9221\"], [1, \"#276419\"]], \"sequential\": [[0.0, \"#0d0887\"], [0.1111111111111111, \"#46039f\"], [0.2222222222222222, \"#7201a8\"], [0.3333333333333333, \"#9c179e\"], [0.4444444444444444, \"#bd3786\"], [0.5555555555555556, \"#d8576b\"], [0.6666666666666666, \"#ed7953\"], [0.7777777777777778, \"#fb9f3a\"], [0.8888888888888888, \"#fdca26\"], [1.0, \"#f0f921\"]], \"sequentialminus\": [[0.0, \"#0d0887\"], [0.1111111111111111, \"#46039f\"], [0.2222222222222222, \"#7201a8\"], [0.3333333333333333, \"#9c179e\"], [0.4444444444444444, \"#bd3786\"], [0.5555555555555556, \"#d8576b\"], [0.6666666666666666, \"#ed7953\"], [0.7777777777777778, \"#fb9f3a\"], [0.8888888888888888, \"#fdca26\"], [1.0, \"#f0f921\"]]}, \"colorway\": [\"#636efa\", \"#EF553B\", \"#00cc96\", \"#ab63fa\", \"#FFA15A\", \"#19d3f3\", \"#FF6692\", \"#B6E880\", \"#FF97FF\", \"#FECB52\"], \"font\": {\"color\": \"#2a3f5f\"}, \"geo\": {\"bgcolor\": \"white\", \"lakecolor\": \"white\", \"landcolor\": \"#E5ECF6\", \"showlakes\": true, \"showland\": true, \"subunitcolor\": \"white\"}, \"hoverlabel\": {\"align\": \"left\"}, \"hovermode\": \"closest\", \"mapbox\": {\"style\": \"light\"}, \"paper_bgcolor\": \"white\", \"plot_bgcolor\": \"#E5ECF6\", \"polar\": {\"angularaxis\": {\"gridcolor\": \"white\", \"linecolor\": \"white\", \"ticks\": \"\"}, \"bgcolor\": \"#E5ECF6\", \"radialaxis\": {\"gridcolor\": \"white\", \"linecolor\": \"white\", \"ticks\": \"\"}}, \"scene\": {\"xaxis\": {\"backgroundcolor\": \"#E5ECF6\", \"gridcolor\": \"white\", \"gridwidth\": 2, \"linecolor\": \"white\", \"showbackground\": true, \"ticks\": \"\", \"zerolinecolor\": \"white\"}, \"yaxis\": {\"backgroundcolor\": \"#E5ECF6\", \"gridcolor\": \"white\", \"gridwidth\": 2, \"linecolor\": \"white\", \"showbackground\": true, \"ticks\": \"\", \"zerolinecolor\": \"white\"}, \"zaxis\": {\"backgroundcolor\": \"#E5ECF6\", \"gridcolor\": \"white\", \"gridwidth\": 2, \"linecolor\": \"white\", \"showbackground\": true, \"ticks\": \"\", \"zerolinecolor\": \"white\"}}, \"shapedefaults\": {\"line\": {\"color\": \"#2a3f5f\"}}, \"ternary\": {\"aaxis\": {\"gridcolor\": \"white\", \"linecolor\": \"white\", \"ticks\": \"\"}, \"baxis\": {\"gridcolor\": \"white\", \"linecolor\": \"white\", \"ticks\": \"\"}, \"bgcolor\": \"#E5ECF6\", \"caxis\": {\"gridcolor\": \"white\", \"linecolor\": \"white\", \"ticks\": \"\"}}, \"title\": {\"x\": 0.05}, \"xaxis\": {\"automargin\": true, \"gridcolor\": \"white\", \"linecolor\": \"white\", \"ticks\": \"\", \"title\": {\"standoff\": 15}, \"zerolinecolor\": \"white\", \"zerolinewidth\": 2}, \"yaxis\": {\"automargin\": true, \"gridcolor\": \"white\", \"linecolor\": \"white\", \"ticks\": \"\", \"title\": {\"standoff\": 15}, \"zerolinecolor\": \"white\", \"zerolinewidth\": 2}}}},\n",
       "                        {\"responsive\": true}\n",
       "                    ).then(function(){\n",
       "                            \n",
       "var gd = document.getElementById('a738c963-6f84-4f48-a461-479fc43a5bca');\n",
       "var x = new MutationObserver(function (mutations, observer) {{\n",
       "        var display = window.getComputedStyle(gd).display;\n",
       "        if (!display || display === 'none') {{\n",
       "            console.log([gd, 'removed!']);\n",
       "            Plotly.purge(gd);\n",
       "            observer.disconnect();\n",
       "        }}\n",
       "}});\n",
       "\n",
       "// Listen for the removal of the full notebook cells\n",
       "var notebookContainer = gd.closest('#notebook-container');\n",
       "if (notebookContainer) {{\n",
       "    x.observe(notebookContainer, {childList: true});\n",
       "}}\n",
       "\n",
       "// Listen for the clearing of the current output cell\n",
       "var outputEl = gd.closest('.output');\n",
       "if (outputEl) {{\n",
       "    x.observe(outputEl, {childList: true});\n",
       "}}\n",
       "\n",
       "                        })\n",
       "                };\n",
       "                \n",
       "            </script>\n",
       "        </div>\n",
       "</body>\n",
       "</html>"
      ]
     },
     "metadata": {
      "tags": []
     },
     "output_type": "display_data"
    }
   ],
   "source": [
    "import plotly.graph_objects as go\n",
    "colors = ['gold', 'mediumturquoise', 'darkorange', 'lightgreen']\n",
    "\n",
    "fig = go.Figure(data=[go.Pie(labels=[class_distribution.iloc[0][0],\n",
    "                                     class_distribution.iloc[1][0],\n",
    "                                     class_distribution.iloc[2][0]],\n",
    "                             values=[class_distribution.iloc[0][1], \n",
    "                                     class_distribution.iloc[1][1],\n",
    "                                     class_distribution.iloc[2][1]])])\n",
    "fig.update_traces(hoverinfo='label+percent', textinfo='text+label+percent', textfont_size=20,\n",
    "                  marker=dict(colors=colors, line=dict(color='#000000', width=2,)))\n",
    "fig.show()"
   ]
  },
  {
   "cell_type": "code",
   "execution_count": 0,
   "metadata": {
    "colab": {},
    "colab_type": "code",
    "id": "eqGvD0XTvrjw"
   },
   "outputs": [],
   "source": []
  },
  {
   "cell_type": "code",
   "execution_count": 0,
   "metadata": {
    "colab": {},
    "colab_type": "code",
    "id": "cNKXR1IkvPxG"
   },
   "outputs": [],
   "source": [
    "import dash_core_components as dcc\n",
    "import matplotlib.pyplot as plt\n",
    "from plotly.tools import mpl_to_plotly\n",
    "layout = dcc.Graph(id='class_pie', figure=fig)"
   ]
  },
  {
   "cell_type": "code",
   "execution_count": 0,
   "metadata": {
    "colab": {},
    "colab_type": "code",
    "id": "NuZJLBXKB_kH"
   },
   "outputs": [],
   "source": [
    "df['galaxy']=df['class']=='GALAXY'\n",
    "df['star'] = df['class']=='STAR'\n",
    "df['quasar'] = df['class']=='QSO'"
   ]
  },
  {
   "cell_type": "code",
   "execution_count": 0,
   "metadata": {
    "colab": {},
    "colab_type": "code",
    "id": "XZehgAfACw3d"
   },
   "outputs": [],
   "source": [
    "df=df.drop(columns='class')"
   ]
  },
  {
   "cell_type": "code",
   "execution_count": 0,
   "metadata": {
    "colab": {
     "base_uri": "https://localhost:8080/",
     "height": 69
    },
    "colab_type": "code",
    "id": "1zBE80yVCp9m",
    "outputId": "547b366a-3e11-4a68-d3ec-c167c8da24de"
   },
   "outputs": [
    {
     "data": {
      "text/plain": [
       "False    89419\n",
       "True     10581\n",
       "Name: quasar, dtype: int64"
      ]
     },
     "execution_count": 91,
     "metadata": {
      "tags": []
     },
     "output_type": "execute_result"
    }
   ],
   "source": [
    "df.quasar.value_counts()"
   ]
  },
  {
   "cell_type": "markdown",
   "metadata": {
    "colab_type": "text",
    "id": "sGqUMvjNVKCi"
   },
   "source": [
    "# train test split"
   ]
  },
  {
   "cell_type": "code",
   "execution_count": 0,
   "metadata": {
    "colab": {},
    "colab_type": "code",
    "id": "d1s-fSxWAn6U"
   },
   "outputs": [],
   "source": [
    "from sklearn.model_selection import train_test_split"
   ]
  },
  {
   "cell_type": "code",
   "execution_count": 0,
   "metadata": {
    "colab": {},
    "colab_type": "code",
    "id": "9rsA10f5AuN2"
   },
   "outputs": [],
   "source": [
    "trainalpha, test = train_test_split(df)"
   ]
  },
  {
   "cell_type": "code",
   "execution_count": 0,
   "metadata": {
    "colab": {},
    "colab_type": "code",
    "id": "Nf5IgU0wAv-2"
   },
   "outputs": [],
   "source": [
    "train, val = train_test_split(trainalpha)"
   ]
  },
  {
   "cell_type": "markdown",
   "metadata": {
    "colab_type": "text",
    "id": "O7CAe-BeVM62"
   },
   "source": [
    "# set target\n"
   ]
  },
  {
   "cell_type": "code",
   "execution_count": 0,
   "metadata": {
    "colab": {},
    "colab_type": "code",
    "id": "UkeGa-1MA8lo"
   },
   "outputs": [],
   "source": [
    "target = 'quasar'\n",
    "\n",
    "xtrain=train.drop(columns=['quasar', 'galaxy', 'star'])\n",
    "ytrain=train[target]\n",
    "xval=val.drop(columns=['quasar', 'galaxy', 'star'])\n",
    "yval=val[target]\n",
    "xtest=test.drop(columns=['quasar', 'galaxy', 'star'])\n",
    "ytest=test[target]"
   ]
  },
  {
   "cell_type": "markdown",
   "metadata": {
    "colab_type": "text",
    "id": "_ireQ3IhI4_y"
   },
   "source": [
    "# import viz libraries"
   ]
  },
  {
   "cell_type": "code",
   "execution_count": 0,
   "metadata": {
    "colab": {},
    "colab_type": "code",
    "id": "JEIUpAoZI4PV"
   },
   "outputs": [],
   "source": [
    "import matplotlib.pyplot as plt"
   ]
  },
  {
   "cell_type": "code",
   "execution_count": 0,
   "metadata": {
    "colab": {},
    "colab_type": "code",
    "id": "MNnLILR7I-8r"
   },
   "outputs": [],
   "source": [
    "# dash stuff\n",
    "from plotly.tools import mpl_to_plotly"
   ]
  },
  {
   "cell_type": "markdown",
   "metadata": {
    "colab_type": "text",
    "id": "t9OtgGn_Iu4-"
   },
   "source": [
    "# import modeling libraries"
   ]
  },
  {
   "cell_type": "code",
   "execution_count": 0,
   "metadata": {
    "colab": {},
    "colab_type": "code",
    "id": "334o-VDVIuY2"
   },
   "outputs": [],
   "source": [
    "# preprocesing\n",
    "\n",
    "# pipeline"
   ]
  },
  {
   "cell_type": "markdown",
   "metadata": {
    "colab_type": "text",
    "id": "y1MTglMtcjXq"
   },
   "source": [
    "# linear model"
   ]
  },
  {
   "cell_type": "code",
   "execution_count": 0,
   "metadata": {
    "colab": {
     "base_uri": "https://localhost:8080/",
     "height": 34
    },
    "colab_type": "code",
    "id": "IIy0SBehbhXI",
    "outputId": "ad5a7792-841d-4e8b-94a0-9be2037fcde9"
   },
   "outputs": [
    {
     "name": "stdout",
     "output_type": "stream",
     "text": [
      "Validation Accuracy:  0.9906666666666667\n"
     ]
    }
   ],
   "source": [
    "from sklearn.linear_model import LogisticRegressionCV#, LogisticRegression\n",
    "from sklearn.preprocessing import StandardScaler\n",
    "from sklearn.pipeline import make_pipeline\n",
    "\n",
    "#model = LogisticRegression().fit(xtrain, ytrain)\n",
    "pipeline = make_pipeline(\n",
    "    StandardScaler(),\n",
    "    LogisticRegressionCV()\n",
    ")\n",
    "pipeline.fit(xtrain, ytrain)\n",
    "print('Validation Accuracy: ', pipeline.score(xval, yval))"
   ]
  },
  {
   "cell_type": "code",
   "execution_count": 0,
   "metadata": {
    "colab": {
     "base_uri": "https://localhost:8080/",
     "height": 607
    },
    "colab_type": "code",
    "id": "g6leOsgpkTo9",
    "outputId": "08629aa5-7aca-46c9-a1fd-c39daf7ddade"
   },
   "outputs": [
    {
     "data": {
      "image/png": "[encoded data removed]",
      "text/plain": [
       "<Figure size 720x720 with 1 Axes>"
      ]
     },
     "metadata": {
      "tags": []
     },
     "output_type": "display_data"
    }
   ],
   "source": [
    "lr = pipeline.named_steps['logisticregressioncv']\n",
    "importances = pd.Series(lr.coef_[0], xtrain.columns)\n",
    "n = 20\n",
    "plt.figure(figsize=(10,n/2))\n",
    "plt.title(f'Top {n} features')\n",
    "importances.sort_values()[-n:].plot.barh(color='grey');"
   ]
  },
  {
   "cell_type": "code",
   "execution_count": 0,
   "metadata": {
    "colab": {
     "base_uri": "https://localhost:8080/",
     "height": 104
    },
    "colab_type": "code",
    "id": "j696L2PTKOnj",
    "outputId": "1d21f4a5-d54b-4f94-b8d8-b345b5bd0008"
   },
   "outputs": [
    {
     "name": "stderr",
     "output_type": "stream",
     "text": [
      "/usr/local/lib/python3.6/dist-packages/plotly/matplotlylib/mpltools.py:368: MatplotlibDeprecationWarning:\n",
      "\n",
      "\n",
      "The is_frame_like function was deprecated in Matplotlib 3.1 and will be removed in 3.3.\n",
      "\n"
     ]
    }
   ],
   "source": [
    "# port figure to plotly\n",
    "lr = pipeline.named_steps['logisticregressioncv']\n",
    "importances = pd.Series(lr.coef_[0], xtrain.columns)\n",
    "n = 20\n",
    "logregimports = plt.figure(figsize=(10,n/2))\n",
    "plt.title(f'Top {n} features')\n",
    "importances.sort_values()[-n:].plot.barh(color='grey');\n",
    "pltyfig = mpl_to_plotly(logregimports)"
   ]
  },
  {
   "cell_type": "code",
   "execution_count": 0,
   "metadata": {
    "colab": {
     "base_uri": "https://localhost:8080/",
     "height": 737
    },
    "colab_type": "code",
    "id": "vACcGpvfTVnj",
    "outputId": "e9b00ff0-3c26-4c60-c999-cb9c68389ea8"
   },
   "outputs": [
    {
     "data": {
      "text/html": [
       "<html>\n",
       "<head><meta charset=\"utf-8\" /></head>\n",
       "<body>\n",
       "    <div>\n",
       "            <script src=\"https://cdnjs.cloudflare.com/ajax/libs/mathjax/2.7.5/MathJax.js?config=TeX-AMS-MML_SVG\"></script><script type=\"text/javascript\">if (window.MathJax) {MathJax.Hub.Config({SVG: {font: \"STIX-Web\"}});}</script>\n",
       "                <script type=\"text/javascript\">window.PlotlyConfig = {MathJaxConfig: 'local'};</script>\n",
       "        <script src=\"https://cdn.plot.ly/plotly-latest.min.js\"></script>    \n",
       "            <div id=\"0bcc0285-406e-42b4-9669-67b2d5a1edc8\" class=\"plotly-graph-div\" style=\"height:720px; width:720px;\"></div>\n",
       "            <script type=\"text/javascript\">\n",
       "                \n",
       "                    window.PLOTLYENV=window.PLOTLYENV || {};\n",
       "                    \n",
       "                if (document.getElementById(\"0bcc0285-406e-42b4-9669-67b2d5a1edc8\")) {\n",
       "                    Plotly.newPlot(\n",
       "                        '0bcc0285-406e-42b4-9669-67b2d5a1edc8',\n",
       "                        [{\"marker\": {\"color\": \"#808080\", \"line\": {\"width\": 1.0}}, \"opacity\": 1, \"orientation\": \"h\", \"type\": \"bar\", \"x\": [3.603136072490691, 1.9742630173920555, 1.038948900453568, 0.7549857922925893, 0.0, 0.0033653736699338216, 0.005421949177743205, 0.01593760484544562, 0.025482317371738113, 0.03945277085697931, 0.039454714560383755, 0.11991880088201481, 0.3800802898428572, 0.8158925265250323, 5.9858804856685515, 6.518187960450892], \"xaxis\": \"x\", \"y\": [0.0, 1.0, 2.0, 3.0, 4.0, 5.0, 6.0, 7.0, 8.0, 9.0, 10.0, 11.0, 12.0, 13.0, 14.0, 15.0], \"yaxis\": \"y\"}],\n",
       "                        {\"autosize\": false, \"bargap\": 0.5, \"barmode\": \"stack\", \"height\": 720, \"hovermode\": \"y\", \"margin\": {\"b\": 90, \"l\": 90, \"pad\": 0, \"r\": 71, \"t\": 86}, \"showlegend\": false, \"template\": {\"data\": {\"bar\": [{\"error_x\": {\"color\": \"#2a3f5f\"}, \"error_y\": {\"color\": \"#2a3f5f\"}, \"marker\": {\"line\": {\"color\": \"#E5ECF6\", \"width\": 0.5}}, \"type\": \"bar\"}], \"barpolar\": [{\"marker\": {\"line\": {\"color\": \"#E5ECF6\", \"width\": 0.5}}, \"type\": \"barpolar\"}], \"carpet\": [{\"aaxis\": {\"endlinecolor\": \"#2a3f5f\", \"gridcolor\": \"white\", \"linecolor\": \"white\", \"minorgridcolor\": \"white\", \"startlinecolor\": \"#2a3f5f\"}, \"baxis\": {\"endlinecolor\": \"#2a3f5f\", \"gridcolor\": \"white\", \"linecolor\": \"white\", \"minorgridcolor\": \"white\", \"startlinecolor\": \"#2a3f5f\"}, \"type\": \"carpet\"}], \"choropleth\": [{\"colorbar\": {\"outlinewidth\": 0, \"ticks\": \"\"}, \"type\": \"choropleth\"}], \"contour\": [{\"colorbar\": {\"outlinewidth\": 0, \"ticks\": \"\"}, \"colorscale\": [[0.0, \"#0d0887\"], [0.1111111111111111, \"#46039f\"], [0.2222222222222222, \"#7201a8\"], [0.3333333333333333, \"#9c179e\"], [0.4444444444444444, \"#bd3786\"], [0.5555555555555556, \"#d8576b\"], [0.6666666666666666, \"#ed7953\"], [0.7777777777777778, \"#fb9f3a\"], [0.8888888888888888, \"#fdca26\"], [1.0, \"#f0f921\"]], \"type\": \"contour\"}], \"contourcarpet\": [{\"colorbar\": {\"outlinewidth\": 0, \"ticks\": \"\"}, \"type\": \"contourcarpet\"}], \"heatmap\": [{\"colorbar\": {\"outlinewidth\": 0, \"ticks\": \"\"}, \"colorscale\": [[0.0, \"#0d0887\"], [0.1111111111111111, \"#46039f\"], [0.2222222222222222, \"#7201a8\"], [0.3333333333333333, \"#9c179e\"], [0.4444444444444444, \"#bd3786\"], [0.5555555555555556, \"#d8576b\"], [0.6666666666666666, \"#ed7953\"], [0.7777777777777778, \"#fb9f3a\"], [0.8888888888888888, \"#fdca26\"], [1.0, \"#f0f921\"]], \"type\": \"heatmap\"}], \"heatmapgl\": [{\"colorbar\": {\"outlinewidth\": 0, \"ticks\": \"\"}, \"colorscale\": [[0.0, \"#0d0887\"], [0.1111111111111111, \"#46039f\"], [0.2222222222222222, \"#7201a8\"], [0.3333333333333333, \"#9c179e\"], [0.4444444444444444, \"#bd3786\"], [0.5555555555555556, \"#d8576b\"], [0.6666666666666666, \"#ed7953\"], [0.7777777777777778, \"#fb9f3a\"], [0.8888888888888888, \"#fdca26\"], [1.0, \"#f0f921\"]], \"type\": \"heatmapgl\"}], \"histogram\": [{\"marker\": {\"colorbar\": {\"outlinewidth\": 0, \"ticks\": \"\"}}, \"type\": \"histogram\"}], \"histogram2d\": [{\"colorbar\": {\"outlinewidth\": 0, \"ticks\": \"\"}, \"colorscale\": [[0.0, \"#0d0887\"], [0.1111111111111111, \"#46039f\"], [0.2222222222222222, \"#7201a8\"], [0.3333333333333333, \"#9c179e\"], [0.4444444444444444, \"#bd3786\"], [0.5555555555555556, \"#d8576b\"], [0.6666666666666666, \"#ed7953\"], [0.7777777777777778, \"#fb9f3a\"], [0.8888888888888888, \"#fdca26\"], [1.0, \"#f0f921\"]], \"type\": \"histogram2d\"}], \"histogram2dcontour\": [{\"colorbar\": {\"outlinewidth\": 0, \"ticks\": \"\"}, \"colorscale\": [[0.0, \"#0d0887\"], [0.1111111111111111, \"#46039f\"], [0.2222222222222222, \"#7201a8\"], [0.3333333333333333, \"#9c179e\"], [0.4444444444444444, \"#bd3786\"], [0.5555555555555556, \"#d8576b\"], [0.6666666666666666, \"#ed7953\"], [0.7777777777777778, \"#fb9f3a\"], [0.8888888888888888, \"#fdca26\"], [1.0, \"#f0f921\"]], \"type\": \"histogram2dcontour\"}], \"mesh3d\": [{\"colorbar\": {\"outlinewidth\": 0, \"ticks\": \"\"}, \"type\": \"mesh3d\"}], \"parcoords\": [{\"line\": {\"colorbar\": {\"outlinewidth\": 0, \"ticks\": \"\"}}, \"type\": \"parcoords\"}], \"pie\": [{\"automargin\": true, \"type\": \"pie\"}], \"scatter\": [{\"marker\": {\"colorbar\": {\"outlinewidth\": 0, \"ticks\": \"\"}}, \"type\": \"scatter\"}], \"scatter3d\": [{\"line\": {\"colorbar\": {\"outlinewidth\": 0, \"ticks\": \"\"}}, \"marker\": {\"colorbar\": {\"outlinewidth\": 0, \"ticks\": \"\"}}, \"type\": \"scatter3d\"}], \"scattercarpet\": [{\"marker\": {\"colorbar\": {\"outlinewidth\": 0, \"ticks\": \"\"}}, \"type\": \"scattercarpet\"}], \"scattergeo\": [{\"marker\": {\"colorbar\": {\"outlinewidth\": 0, \"ticks\": \"\"}}, \"type\": \"scattergeo\"}], \"scattergl\": [{\"marker\": {\"colorbar\": {\"outlinewidth\": 0, \"ticks\": \"\"}}, \"type\": \"scattergl\"}], \"scattermapbox\": [{\"marker\": {\"colorbar\": {\"outlinewidth\": 0, \"ticks\": \"\"}}, \"type\": \"scattermapbox\"}], \"scatterpolar\": [{\"marker\": {\"colorbar\": {\"outlinewidth\": 0, \"ticks\": \"\"}}, \"type\": \"scatterpolar\"}], \"scatterpolargl\": [{\"marker\": {\"colorbar\": {\"outlinewidth\": 0, \"ticks\": \"\"}}, \"type\": \"scatterpolargl\"}], \"scatterternary\": [{\"marker\": {\"colorbar\": {\"outlinewidth\": 0, \"ticks\": \"\"}}, \"type\": \"scatterternary\"}], \"surface\": [{\"colorbar\": {\"outlinewidth\": 0, \"ticks\": \"\"}, \"colorscale\": [[0.0, \"#0d0887\"], [0.1111111111111111, \"#46039f\"], [0.2222222222222222, \"#7201a8\"], [0.3333333333333333, \"#9c179e\"], [0.4444444444444444, \"#bd3786\"], [0.5555555555555556, \"#d8576b\"], [0.6666666666666666, \"#ed7953\"], [0.7777777777777778, \"#fb9f3a\"], [0.8888888888888888, \"#fdca26\"], [1.0, \"#f0f921\"]], \"type\": \"surface\"}], \"table\": [{\"cells\": {\"fill\": {\"color\": \"#EBF0F8\"}, \"line\": {\"color\": \"white\"}}, \"header\": {\"fill\": {\"color\": \"#C8D4E3\"}, \"line\": {\"color\": \"white\"}}, \"type\": \"table\"}]}, \"layout\": {\"annotationdefaults\": {\"arrowcolor\": \"#2a3f5f\", \"arrowhead\": 0, \"arrowwidth\": 1}, \"coloraxis\": {\"colorbar\": {\"outlinewidth\": 0, \"ticks\": \"\"}}, \"colorscale\": {\"diverging\": [[0, \"#8e0152\"], [0.1, \"#c51b7d\"], [0.2, \"#de77ae\"], [0.3, \"#f1b6da\"], [0.4, \"#fde0ef\"], [0.5, \"#f7f7f7\"], [0.6, \"#e6f5d0\"], [0.7, \"#b8e186\"], [0.8, \"#7fbc41\"], [0.9, \"#4d9221\"], [1, \"#276419\"]], \"sequential\": [[0.0, \"#0d0887\"], [0.1111111111111111, \"#46039f\"], [0.2222222222222222, \"#7201a8\"], [0.3333333333333333, \"#9c179e\"], [0.4444444444444444, \"#bd3786\"], [0.5555555555555556, \"#d8576b\"], [0.6666666666666666, \"#ed7953\"], [0.7777777777777778, \"#fb9f3a\"], [0.8888888888888888, \"#fdca26\"], [1.0, \"#f0f921\"]], \"sequentialminus\": [[0.0, \"#0d0887\"], [0.1111111111111111, \"#46039f\"], [0.2222222222222222, \"#7201a8\"], [0.3333333333333333, \"#9c179e\"], [0.4444444444444444, \"#bd3786\"], [0.5555555555555556, \"#d8576b\"], [0.6666666666666666, \"#ed7953\"], [0.7777777777777778, \"#fb9f3a\"], [0.8888888888888888, \"#fdca26\"], [1.0, \"#f0f921\"]]}, \"colorway\": [\"#636efa\", \"#EF553B\", \"#00cc96\", \"#ab63fa\", \"#FFA15A\", \"#19d3f3\", \"#FF6692\", \"#B6E880\", \"#FF97FF\", \"#FECB52\"], \"font\": {\"color\": \"#2a3f5f\"}, \"geo\": {\"bgcolor\": \"white\", \"lakecolor\": \"white\", \"landcolor\": \"#E5ECF6\", \"showlakes\": true, \"showland\": true, \"subunitcolor\": \"white\"}, \"hoverlabel\": {\"align\": \"left\"}, \"hovermode\": \"closest\", \"mapbox\": {\"style\": \"light\"}, \"paper_bgcolor\": \"white\", \"plot_bgcolor\": \"#E5ECF6\", \"polar\": {\"angularaxis\": {\"gridcolor\": \"white\", \"linecolor\": \"white\", \"ticks\": \"\"}, \"bgcolor\": \"#E5ECF6\", \"radialaxis\": {\"gridcolor\": \"white\", \"linecolor\": \"white\", \"ticks\": \"\"}}, \"scene\": {\"xaxis\": {\"backgroundcolor\": \"#E5ECF6\", \"gridcolor\": \"white\", \"gridwidth\": 2, \"linecolor\": \"white\", \"showbackground\": true, \"ticks\": \"\", \"zerolinecolor\": \"white\"}, \"yaxis\": {\"backgroundcolor\": \"#E5ECF6\", \"gridcolor\": \"white\", \"gridwidth\": 2, \"linecolor\": \"white\", \"showbackground\": true, \"ticks\": \"\", \"zerolinecolor\": \"white\"}, \"zaxis\": {\"backgroundcolor\": \"#E5ECF6\", \"gridcolor\": \"white\", \"gridwidth\": 2, \"linecolor\": \"white\", \"showbackground\": true, \"ticks\": \"\", \"zerolinecolor\": \"white\"}}, \"shapedefaults\": {\"line\": {\"color\": \"#2a3f5f\"}}, \"ternary\": {\"aaxis\": {\"gridcolor\": \"white\", \"linecolor\": \"white\", \"ticks\": \"\"}, \"baxis\": {\"gridcolor\": \"white\", \"linecolor\": \"white\", \"ticks\": \"\"}, \"bgcolor\": \"#E5ECF6\", \"caxis\": {\"gridcolor\": \"white\", \"linecolor\": \"white\", \"ticks\": \"\"}}, \"title\": {\"x\": 0.05}, \"xaxis\": {\"automargin\": true, \"gridcolor\": \"white\", \"linecolor\": \"white\", \"ticks\": \"\", \"title\": {\"standoff\": 15}, \"zerolinecolor\": \"white\", \"zerolinewidth\": 2}, \"yaxis\": {\"automargin\": true, \"gridcolor\": \"white\", \"linecolor\": \"white\", \"ticks\": \"\", \"title\": {\"standoff\": 15}, \"zerolinecolor\": \"white\", \"zerolinewidth\": 2}}}, \"title\": {\"font\": {\"color\": \"#000000\", \"size\": 12.0}, \"text\": \"Top 20 features\"}, \"width\": 720, \"xaxis\": {\"anchor\": \"y\", \"domain\": [0.0, 1.0], \"mirror\": \"ticks\", \"nticks\": 8, \"range\": [-4.10920227413777, 7.0242541620979715], \"showgrid\": false, \"showline\": true, \"side\": \"bottom\", \"tickfont\": {\"size\": 10.0}, \"ticks\": \"inside\", \"type\": \"linear\", \"zeroline\": false}, \"yaxis\": {\"anchor\": \"x\", \"domain\": [0.0, 1.0], \"dtick\": 1, \"mirror\": \"ticks\", \"range\": [-0.5, 15.5], \"showgrid\": false, \"showline\": true, \"side\": \"left\", \"tick0\": 0, \"tickfont\": {\"size\": 10.0}, \"ticks\": \"inside\", \"type\": \"linear\", \"zeroline\": false}},\n",
       "                        {\"responsive\": true}\n",
       "                    ).then(function(){\n",
       "                            \n",
       "var gd = document.getElementById('0bcc0285-406e-42b4-9669-67b2d5a1edc8');\n",
       "var x = new MutationObserver(function (mutations, observer) {{\n",
       "        var display = window.getComputedStyle(gd).display;\n",
       "        if (!display || display === 'none') {{\n",
       "            console.log([gd, 'removed!']);\n",
       "            Plotly.purge(gd);\n",
       "            observer.disconnect();\n",
       "        }}\n",
       "}});\n",
       "\n",
       "// Listen for the removal of the full notebook cells\n",
       "var notebookContainer = gd.closest('#notebook-container');\n",
       "if (notebookContainer) {{\n",
       "    x.observe(notebookContainer, {childList: true});\n",
       "}}\n",
       "\n",
       "// Listen for the clearing of the current output cell\n",
       "var outputEl = gd.closest('.output');\n",
       "if (outputEl) {{\n",
       "    x.observe(outputEl, {childList: true});\n",
       "}}\n",
       "\n",
       "                        })\n",
       "                };\n",
       "                \n",
       "            </script>\n",
       "        </div>\n",
       "</body>\n",
       "</html>"
      ]
     },
     "metadata": {
      "tags": []
     },
     "output_type": "display_data"
    }
   ],
   "source": [
    "pltyfig.show()"
   ]
  },
  {
   "cell_type": "code",
   "execution_count": 0,
   "metadata": {
    "colab": {
     "base_uri": "https://localhost:8080/",
     "height": 34
    },
    "colab_type": "code",
    "id": "tiGu2sRrmPP_",
    "outputId": "a021a10d-0e59-4a73-e4d1-bb153e5cbb23"
   },
   "outputs": [
    {
     "data": {
      "text/plain": [
       "['isquasarrf.joblib']"
      ]
     },
     "execution_count": 113,
     "metadata": {
      "tags": []
     },
     "output_type": "execute_result"
    }
   ],
   "source": [
    "dump(pipeline, 'isquasarrf.joblib', compress=True)"
   ]
  },
  {
   "cell_type": "markdown",
   "metadata": {
    "colab_type": "text",
    "id": "OMp1u462cg-u"
   },
   "source": [
    "# ensemble model"
   ]
  },
  {
   "cell_type": "code",
   "execution_count": 0,
   "metadata": {
    "colab": {},
    "colab_type": "code",
    "id": "PDBoK6b7ACrG"
   },
   "outputs": [],
   "source": [
    "# one hot encoding with random forest\n",
    "from sklearn.pipeline import make_pipeline\n",
    "from sklearn.ensemble import RandomForestClassifier"
   ]
  },
  {
   "cell_type": "code",
   "execution_count": 0,
   "metadata": {
    "colab": {
     "base_uri": "https://localhost:8080/",
     "height": 676
    },
    "colab_type": "code",
    "id": "MWvvMTKEhBqa",
    "outputId": "722b1340-230a-4962-f928-ac5ddb818a3c"
   },
   "outputs": [
    {
     "name": "stdout",
     "output_type": "stream",
     "text": [
      "Baseline Accuracy:  0.89328\n",
      "Validation Accuracy:  0.9917866666666667\n",
      "CPU times: user 32.9 s, sys: 83.9 ms, total: 33 s\n",
      "Wall time: 17 s\n"
     ]
    },
    {
     "data": {
      "image/png": "[encoded data removed]",
      "text/plain": [
       "<Figure size 720x720 with 1 Axes>"
      ]
     },
     "metadata": {
      "tags": []
     },
     "output_type": "display_data"
    }
   ],
   "source": [
    "%%time\n",
    "\n",
    "print('Baseline Accuracy: ', train['quasar'].value_counts(normalize=True)[0])\n",
    "\n",
    "pipeline=make_pipeline(\n",
    "    RandomForestClassifier(random_state=0, n_jobs=-1)\n",
    ")\n",
    "# fit on train, score on val\n",
    "pipeline.fit(xtrain, ytrain)\n",
    "print('Validation Accuracy: ', pipeline.score(xval, yval))\n",
    "\n",
    "rf = pipeline.named_steps['randomforestclassifier']\n",
    "importances = pd.Series(rf.feature_importances_, xtrain.columns)\n",
    "n = 20\n",
    "plt.figure(figsize=(10,n/2))\n",
    "plt.title(f'Top {n} features')\n",
    "importances.sort_values()[-n:].plot.barh(color='grey');"
   ]
  },
  {
   "cell_type": "markdown",
   "metadata": {
    "colab_type": "text",
    "id": "9r6uh143VFH_"
   },
   "source": [
    "# predict galaxy"
   ]
  },
  {
   "cell_type": "code",
   "execution_count": 0,
   "metadata": {
    "colab": {},
    "colab_type": "code",
    "id": "vk7k0UBWVTUd"
   },
   "outputs": [],
   "source": [
    "target = 'galaxy'\n",
    "\n",
    "xtrain=train.drop(columns=['quasar', 'galaxy', 'star'])\n",
    "ytrain=train[target]\n",
    "xval=val.drop(columns=['quasar', 'galaxy', 'star'])\n",
    "yval=val[target]\n",
    "xtest=test.drop(columns=['quasar', 'galaxy', 'star'])\n",
    "ytest=test[target]"
   ]
  },
  {
   "cell_type": "code",
   "execution_count": 0,
   "metadata": {
    "colab": {
     "base_uri": "https://localhost:8080/",
     "height": 642
    },
    "colab_type": "code",
    "id": "yoqpDVCkVZMp",
    "outputId": "1a9368dd-541d-49d1-a901-a7acd9367a06"
   },
   "outputs": [
    {
     "name": "stdout",
     "output_type": "stream",
     "text": [
      "Baseline Accuracy:  0.48558222222222225\n",
      "Validation Accuracy:  0.99008\n"
     ]
    },
    {
     "data": {
      "image/png": "[encoded data removed]",
      "text/plain": [
       "<Figure size 720x720 with 1 Axes>"
      ]
     },
     "metadata": {
      "tags": []
     },
     "output_type": "display_data"
    }
   ],
   "source": [
    "print('Baseline Accuracy: ', train['galaxy'].value_counts(normalize=True)[0])\n",
    "\n",
    "pipeline=make_pipeline(\n",
    "    RandomForestClassifier(random_state=0, n_jobs=-1)\n",
    ")\n",
    "# fit on train, score on val\n",
    "pipeline.fit(xtrain, ytrain)\n",
    "print('Validation Accuracy: ', pipeline.score(xval, yval))\n",
    "\n",
    "rf = pipeline.named_steps['randomforestclassifier']\n",
    "importances = pd.Series(rf.feature_importances_, xtrain.columns)\n",
    "n = 20\n",
    "plt.figure(figsize=(10,n/2))\n",
    "plt.title(f'Top {n} features')\n",
    "importances.sort_values()[-n:].plot.barh(color='grey');"
   ]
  },
  {
   "cell_type": "code",
   "execution_count": 0,
   "metadata": {
    "colab": {
     "base_uri": "https://localhost:8080/",
     "height": 34
    },
    "colab_type": "code",
    "id": "j5m5nmbmUuJq",
    "outputId": "29bedb6d-0253-40ab-da54-6e6097ea8725"
   },
   "outputs": [
    {
     "data": {
      "text/plain": [
       "['isgalaxyrf.joblib']"
      ]
     },
     "execution_count": 107,
     "metadata": {
      "tags": []
     },
     "output_type": "execute_result"
    }
   ],
   "source": [
    "#pkl\n",
    "from joblib import dump\n",
    "\n",
    "dump(pipeline, 'isgalaxyrf.joblib', compress=True)"
   ]
  },
  {
   "cell_type": "code",
   "execution_count": 0,
   "metadata": {
    "colab": {
     "base_uri": "https://localhost:8080/",
     "height": 104
    },
    "colab_type": "code",
    "id": "3n42kQsEVAHD",
    "outputId": "450ae819-5ed4-49d3-b0d9-f90de874d969"
   },
   "outputs": [
    {
     "name": "stdout",
     "output_type": "stream",
     "text": [
      "joblib==0.14.1\n",
      "pandas==0.25.3\n",
      "matplotlib==3.1.3\n",
      "plotly==4.4.1\n",
      "sklearn==0.22.1\n"
     ]
    }
   ],
   "source": [
    "# get versions\n",
    "import joblib\n",
    "import pandas\n",
    "import sklearn\n",
    "import matplotlib\n",
    "import plotly\n",
    "\n",
    "print(f'joblib=={joblib.__version__}')\n",
    "print(f'pandas=={pandas.__version__}')\n",
    "print(f'matplotlib=={matplotlib.__version__}')\n",
    "print(f'plotly=={plotly.__version__}')\n",
    "print(f'sklearn=={sklearn.__version__}')"
   ]
  },
  {
   "cell_type": "markdown",
   "metadata": {
    "colab_type": "text",
    "id": "FSaAwRgcWuYn"
   },
   "source": [
    "\n",
    "# predict star"
   ]
  },
  {
   "cell_type": "code",
   "execution_count": 0,
   "metadata": {
    "colab": {},
    "colab_type": "code",
    "id": "vZWHeDk8WweT"
   },
   "outputs": [],
   "source": [
    "target = 'star'\n",
    "\n",
    "xtrain=train.drop(columns=['quasar', 'galaxy', 'star'])\n",
    "ytrain=train[target]\n",
    "xval=val.drop(columns=['quasar', 'galaxy', 'star'])\n",
    "yval=val[target]\n",
    "xtest=test.drop(columns=['quasar', 'galaxy', 'star'])\n",
    "ytest=test[target]"
   ]
  },
  {
   "cell_type": "code",
   "execution_count": 0,
   "metadata": {
    "colab": {
     "base_uri": "https://localhost:8080/",
     "height": 642
    },
    "colab_type": "code",
    "id": "pim5rXegWzHq",
    "outputId": "6b5093a0-1042-461b-dd83-223cd2f801a6"
   },
   "outputs": [
    {
     "name": "stdout",
     "output_type": "stream",
     "text": [
      "Baseline Accuracy:  0.6211377777777778\n",
      "Validation Accuracy:  0.9980266666666666\n"
     ]
    },
    {
     "data": {
      "image/png": "[encoded data removed]",
      "text/plain": [
       "<Figure size 720x720 with 1 Axes>"
      ]
     },
     "metadata": {
      "tags": []
     },
     "output_type": "display_data"
    }
   ],
   "source": [
    "print('Baseline Accuracy: ', train['star'].value_counts(normalize=True)[0])\n",
    "\n",
    "pipeline=make_pipeline(\n",
    "    SimpleImputer(strategy='median'),\n",
    "    RandomForestClassifier(random_state=0, n_jobs=-1)\n",
    ")\n",
    "# fit on train, score on val\n",
    "pipeline.fit(xtrain, ytrain)\n",
    "print('Validation Accuracy: ', pipeline.score(xval, yval))\n",
    "\n",
    "dump(pipeline, 'isstarrf.joblib', compress=True)\n",
    "\n",
    "rf = pipeline.named_steps['randomforestclassifier']\n",
    "importances = pd.Series(rf.feature_importances_, xtrain.columns)\n",
    "n = 20\n",
    "plt.figure(figsize=(10,n/2))\n",
    "plt.title(f'Top {n} features')\n",
    "importances.sort_values()[-n:].plot.barh(color='grey');\n"
   ]
  },
  {
   "cell_type": "markdown",
   "metadata": {
    "colab_type": "text",
    "id": "f5WXR645YVKV"
   },
   "source": [
    "# viz"
   ]
  },
  {
   "cell_type": "code",
   "execution_count": 0,
   "metadata": {
    "colab": {
     "base_uri": "https://localhost:8080/",
     "height": 282
    },
    "colab_type": "code",
    "id": "bn50tuc7YYn-",
    "outputId": "b9ca4fe4-aa42-4506-df07-45503ea273a7"
   },
   "outputs": [
    {
     "data": {
      "text/plain": [
       "<matplotlib.collections.PathCollection at 0x7fdcdccadef0>"
      ]
     },
     "execution_count": 25,
     "metadata": {
      "tags": []
     },
     "output_type": "execute_result"
    },
    {
     "data": {
      "image/png": "[encoded data removed]",
      "text/plain": [
       "<Figure size 432x288 with 1 Axes>"
      ]
     },
     "metadata": {
      "tags": []
     },
     "output_type": "display_data"
    }
   ],
   "source": [
    "plt.scatter(df_alpha['class'], df_alpha['redshift'])"
   ]
  },
  {
   "cell_type": "code",
   "execution_count": 0,
   "metadata": {
    "colab": {},
    "colab_type": "code",
    "id": "StAfkbcfZTVB"
   },
   "outputs": [],
   "source": []
  }
 ],
 "metadata": {
  "colab": {
   "name": "sloan.ipynb",
   "provenance": []
  },
  "kernelspec": {
   "display_name": "Python 3",
   "language": "python",
   "name": "python3"
  },
  "language_info": {
   "codemirror_mode": {
    "name": "ipython",
    "version": 3
   },
   "file_extension": ".py",
   "mimetype": "text/x-python",
   "name": "python",
   "nbconvert_exporter": "python",
   "pygments_lexer": "ipython3",
   "version": "3.7.4"
  }
 },
 "nbformat": 4,
 "nbformat_minor": 1
}
